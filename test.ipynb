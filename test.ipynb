{
 "cells": [
  {
   "cell_type": "code",
   "execution_count": 19,
   "metadata": {},
   "outputs": [
    {
     "name": "stderr",
     "output_type": "stream",
     "text": [
      "/tmp/ipykernel_45040/1119839668.py:7: DeprecationWarning: Importing display from IPython.core.display is deprecated since IPython 7.14, please import from IPython display\n",
      "  from IPython.core.display import HTML, display\n"
     ]
    }
   ],
   "source": [
    "import json\n",
    "import re\n",
    "from pprint import pprint\n",
    "\n",
    "import numpy as np\n",
    "import pandas as pd\n",
    "from IPython.core.display import HTML, display\n",
    "from sklearn.base import BaseEstimator, TransformerMixin\n",
    "from sklearn.compose import ColumnTransformer\n",
    "from sklearn.dummy import DummyClassifier\n",
    "from sklearn.feature_extraction.text import TfidfVectorizer\n",
    "from sklearn.pipeline import Pipeline\n",
    "from sklearn import svm\n",
    "from sklearn.metrics import confusion_matrix\n",
    "import spacy\n",
    "\n",
    "nlp = spacy.load('ru_core_news_lg')\n",
    "\n"
   ]
  },
  {
   "cell_type": "code",
   "execution_count": 20,
   "metadata": {},
   "outputs": [
    {
     "name": "stdout",
     "output_type": "stream",
     "text": [
      "(30000, 3)\n",
      "Типы столбцов: \n"
     ]
    },
    {
     "data": {
      "text/plain": [
       "name           object\n",
       "description    object\n",
       "target          int64\n",
       "dtype: object"
      ]
     },
     "metadata": {},
     "output_type": "display_data"
    },
    {
     "name": "stdout",
     "output_type": "stream",
     "text": [
      "Фрагмент данных: \n"
     ]
    },
    {
     "data": {
      "text/html": [
       "<div>\n",
       "<style scoped>\n",
       "    .dataframe tbody tr th:only-of-type {\n",
       "        vertical-align: middle;\n",
       "    }\n",
       "\n",
       "    .dataframe tbody tr th {\n",
       "        vertical-align: top;\n",
       "    }\n",
       "\n",
       "    .dataframe thead th {\n",
       "        text-align: right;\n",
       "    }\n",
       "</style>\n",
       "<table border=\"1\" class=\"dataframe\">\n",
       "  <thead>\n",
       "    <tr style=\"text-align: right;\">\n",
       "      <th></th>\n",
       "      <th>name</th>\n",
       "      <th>description</th>\n",
       "      <th>target</th>\n",
       "    </tr>\n",
       "    <tr>\n",
       "      <th>index</th>\n",
       "      <th></th>\n",
       "      <th></th>\n",
       "      <th></th>\n",
       "    </tr>\n",
       "  </thead>\n",
       "  <tbody>\n",
       "    <tr>\n",
       "      <th>324865089</th>\n",
       "      <td>продавец кассир</td>\n",
       "      <td>&lt;strong&gt;Обязанности:&lt;/strong&gt; &lt;ul&gt; &lt;li&gt;работа ...</td>\n",
       "      <td>-1</td>\n",
       "    </tr>\n",
       "    <tr>\n",
       "      <th>169467135</th>\n",
       "      <td>продавец мила (шевченко 17)</td>\n",
       "      <td>&lt;p&gt;&lt;strong&gt;Магазин МИЛА по адресу б-р Шевченко...</td>\n",
       "      <td>-1</td>\n",
       "    </tr>\n",
       "    <tr>\n",
       "      <th>169939030</th>\n",
       "      <td>кассир в пиццерию г витебск</td>\n",
       "      <td>&lt;p&gt;&lt;strong&gt;Устал искать работу? Может, хочешь ...</td>\n",
       "      <td>5223</td>\n",
       "    </tr>\n",
       "    <tr>\n",
       "      <th>31956044</th>\n",
       "      <td>начальник строительного участка</td>\n",
       "      <td>&lt;p&gt;Компании &amp;quot;Артель-Строй&amp;quot; на постоя...</td>\n",
       "      <td>-1</td>\n",
       "    </tr>\n",
       "    <tr>\n",
       "      <th>36781653</th>\n",
       "      <td>продавец кассир (санкт петербург бухарестская 31)</td>\n",
       "      <td>&lt;p&gt;Обязанности:&lt;/p&gt;&lt;p&gt;    •Обслуживание покупа...</td>\n",
       "      <td>-1</td>\n",
       "    </tr>\n",
       "  </tbody>\n",
       "</table>\n",
       "</div>"
      ],
      "text/plain": [
       "                                                        name  \\\n",
       "index                                                          \n",
       "324865089                                    продавец кассир   \n",
       "169467135                        продавец мила (шевченко 17)   \n",
       "169939030                        кассир в пиццерию г витебск   \n",
       "31956044                     начальник строительного участка   \n",
       "36781653   продавец кассир (санкт петербург бухарестская 31)   \n",
       "\n",
       "                                                 description  target  \n",
       "index                                                                 \n",
       "324865089  <strong>Обязанности:</strong> <ul> <li>работа ...      -1  \n",
       "169467135  <p><strong>Магазин МИЛА по адресу б-р Шевченко...      -1  \n",
       "169939030  <p><strong>Устал искать работу? Может, хочешь ...    5223  \n",
       "31956044   <p>Компании &quot;Артель-Строй&quot; на постоя...      -1  \n",
       "36781653   <p>Обязанности:</p><p>    •Обслуживание покупа...      -1  "
      ]
     },
     "metadata": {},
     "output_type": "display_data"
    }
   ],
   "source": [
    "\n",
    "\n",
    "class FullDescriptionCreator(BaseEstimator, TransformerMixin):\n",
    "    patt = re.compile(\"[^\\s\\w]\")\n",
    "\n",
    "    def __init__(self, responsibilities):\n",
    "        self.responsibilities = responsibilities\n",
    "\n",
    "    def fit(self, X, y=None):\n",
    "        return self\n",
    "\n",
    "    def transform(self, X):\n",
    "        X = X.copy()\n",
    "        X[\"responsibilities\"] = self.responsibilities\n",
    "        X[\"full_description\"] = (\n",
    "            X[\"name\"] + \" \" + X[\"responsibilities\"].fillna(\"\")\n",
    "        ).map(str.lower)\n",
    "        X.loc[:, \"full_description\"] = X[\"full_description\"].str.replace(\n",
    "            self.patt, \" \", regex=True\n",
    "        )\n",
    "        return X\n",
    "\n",
    "\n",
    "train = pd.read_csv(\"./train.csv\", index_col=\"index\")\n",
    "print(f\"{train.shape}\")\n",
    "print(\"Типы столбцов: \")\n",
    "display(train.dtypes)\n",
    "print(\"Фрагмент данных: \")\n",
    "display(train.head())\n"
   ]
  },
  {
   "cell_type": "code",
   "execution_count": 21,
   "metadata": {},
   "outputs": [
    {
     "name": "stdout",
     "output_type": "stream",
     "text": [
      "train.shape=(15000, 3)\n"
     ]
    },
    {
     "data": {
      "text/plain": [
       "array([ 0.03560386, -0.21459208, -0.12009188,  0.15853915,  0.06140671,\n",
       "        0.09399105,  0.07320838,  0.01222286,  0.19687626, -0.01116902,\n",
       "       -0.03156796, -0.04528657, -0.00573984,  0.0190233 ,  0.05508011,\n",
       "        0.10389701, -0.00242258, -0.0010704 , -0.04090424,  0.20696554,\n",
       "       -0.06228608, -0.24492645,  0.05713023,  0.05338564,  0.06297158,\n",
       "       -0.04240432,  0.06613895,  0.16513336, -0.07516245,  0.10809041,\n",
       "       -0.01036515, -0.15860757,  0.53712296, -0.00108516,  0.00130198,\n",
       "        0.04367797,  0.12001096,  0.17025046, -0.16244456, -0.19835089,\n",
       "       -0.05467543,  0.05016365,  0.06995301, -0.0618767 , -0.05789093,\n",
       "        0.03491769, -0.13473155,  0.03035766,  0.03601493,  0.03541508,\n",
       "       -0.07193881, -0.06211124, -0.07721085,  0.20575714, -0.15518436,\n",
       "        0.0675396 ,  0.059786  , -0.00130114,  0.06848715, -0.11823181,\n",
       "       -0.00220902, -0.12369963, -0.13709602,  0.04950109, -0.13065036,\n",
       "        0.20665541, -0.05367049, -0.05710496,  0.07028902, -0.0975091 ,\n",
       "       -0.0302279 , -0.15093927, -0.09435896, -0.12570189, -0.07589047,\n",
       "        0.12896736,  0.02252828,  0.04723176,  0.10975651,  0.05398578,\n",
       "       -0.17710468, -0.08090315, -0.0447945 , -0.04086211, -0.05839119,\n",
       "        0.02160078, -0.13273598,  0.10688204, -0.03639053,  0.1725614 ,\n",
       "       -0.00952652,  0.03943837, -0.18214338,  0.02165003, -0.05958593,\n",
       "       -0.02352231, -0.08018102, -0.04182331, -0.12080586, -0.22485498,\n",
       "        0.03228963, -0.01024418, -0.10853297, -0.01686933, -0.04319141,\n",
       "        0.06924156, -0.01734285,  0.08375229, -0.00635152,  0.15532038,\n",
       "        0.12496628,  0.09769357, -0.16153164, -0.01859602,  0.03006764,\n",
       "        0.12514411, -0.14174496, -0.03513214, -0.05226021,  0.11108508,\n",
       "        0.23054144, -0.18124689,  0.06445119, -0.05519066,  0.12526439,\n",
       "        0.02128551, -0.26387948,  0.03969304, -0.0025777 , -0.12324218,\n",
       "       -0.01334128, -0.16031201,  0.02746016, -0.21882685, -0.1930788 ,\n",
       "        0.1633034 ,  0.14650033,  0.14905106,  0.3049217 , -0.10255488,\n",
       "        0.17102869,  0.00832321, -0.02801543, -0.30588692, -0.13932286,\n",
       "       -0.29492146,  0.07345923,  0.1251634 , -0.026114  , -0.07015913,\n",
       "        0.01267599, -0.01062293, -0.18530771,  0.0345244 , -0.1218676 ,\n",
       "       -0.05100551, -0.0266182 , -0.0280245 ,  0.11044614,  0.02296624,\n",
       "       -0.11931652,  0.0343544 , -0.16980478, -0.03826193, -0.08608124,\n",
       "        0.23659356,  0.02352168,  0.16910233,  0.07724745,  0.07152575,\n",
       "        0.10605669,  0.08252389, -0.08844291,  0.13678762,  0.0188662 ,\n",
       "       -0.02406652, -0.00725075, -0.03602038,  0.01839709, -0.00456297,\n",
       "        0.04444068,  0.13977563, -0.02663237,  0.04861321,  0.18930958,\n",
       "        0.04203676,  0.07509793,  0.06856833, -0.07020791,  0.269609  ,\n",
       "       -0.18662927, -0.01591381, -0.05059146, -0.1129817 ,  0.02951395,\n",
       "        0.07846624,  0.01347144,  0.00503831,  0.15489797,  0.07514758,\n",
       "       -0.03459268,  0.01640249, -0.01718758,  0.11604798,  0.00704733,\n",
       "        0.16823135,  0.02024125,  0.1307507 , -0.04306112, -0.24149273,\n",
       "       -0.07486595, -0.06008523,  0.03367192, -0.21569087, -0.10530966,\n",
       "        0.19039999, -0.00609003,  0.08563845,  0.07133144,  0.05208961,\n",
       "       -0.15051116,  0.12329764, -0.0754244 , -0.0626091 ,  0.07900713,\n",
       "       -0.00150727, -0.04202829,  0.04754368,  0.17897809, -0.06980233,\n",
       "        0.19562888,  0.03944036, -0.08864913, -0.12125359,  0.12565699,\n",
       "       -0.05103955,  0.01305811, -0.08535241, -0.22480716,  0.051032  ,\n",
       "       -0.10885169,  0.06912488, -0.05938903,  0.20973943,  0.09749867,\n",
       "        0.09692037, -0.10173952,  0.00677538, -0.07161268, -0.16649197,\n",
       "       -0.00915105, -0.02239368, -0.09026816,  0.11837362,  0.07309866,\n",
       "        0.12103057, -0.09510618,  0.12964568,  0.09241451,  0.03176237,\n",
       "        0.0672589 , -0.07631447, -0.1388654 ,  0.01520124, -0.13875754,\n",
       "       -0.09395017,  0.20631899, -0.05247082,  0.16753982, -0.03336041,\n",
       "       -0.08404928,  0.0096688 ,  0.17230923,  0.00588141,  0.00655216,\n",
       "       -0.02673238,  0.02568318, -0.15571068, -0.04099793,  0.04416849,\n",
       "       -0.14014539,  0.21043703, -0.0607472 ,  0.08233476,  0.01232808,\n",
       "       -0.02906185,  0.01120397,  0.03433527,  0.03226956,  0.080153  ,\n",
       "        0.01205504, -0.03005855,  0.01929637, -0.079951  , -0.0401847 ,\n",
       "       -0.08800509,  0.00231003, -0.18570067, -0.0303175 ,  0.10875316],\n",
       "      dtype=float32)"
      ]
     },
     "execution_count": 21,
     "metadata": {},
     "output_type": "execute_result"
    }
   ],
   "source": [
    "\n",
    "train = train.query(\"target != -1\")\n",
    "print(f\"{train.shape=}\")\n",
    "\n",
    "train.at[169939030, \"description\"]\n",
    "\n",
    "with open(\n",
    "    \"./vacancy_descriptions/2_parsed.json\", \"r\", encoding=\"utf8\"\n",
    ") as fp:\n",
    "    descriptions = json.load(fp)\n",
    "    \n",
    "\n",
    "responsibilities = pd.Series({\n",
    "    description[\"ID\"]: r[0]\n",
    "    if (r := description[\"Content\"].get(\"Обязанности\")) is not None\n",
    "    else None\n",
    "    for description in descriptions\n",
    "}, name=\"responsibilities\")\n",
    "\n",
    "\n",
    "train[\"responsibilities\"] = responsibilities\n",
    "\n",
    "train[\"full_description\"] = (\n",
    "    train[\"name\"] + \" \" + train[\"responsibilities\"].fillna(\"\")\n",
    ").map(str.lower)\n",
    "\n",
    "patt = re.compile(\"[^\\w\\s]\")\n",
    "train.loc[:, \"full_description\"] = train[\"full_description\"].str.replace(\n",
    "    patt, \" \", regex=True\n",
    ")\n",
    "\n",
    "X_train_raw, y_train = train[\"full_description\"], train[\"target\"]\n",
    "\n",
    "X_train_raw\n",
    "\n",
    "\n",
    "docs = [nlp(text) for text in X_train_raw]\n",
    "train_x_word_vectors = [x.vector for x in docs]\n",
    "\n",
    "train_x_word_vectors[0]\n"
   ]
  },
  {
   "cell_type": "code",
   "execution_count": 22,
   "metadata": {},
   "outputs": [
    {
     "data": {
      "text/html": [
       "<style>#sk-container-id-2 {color: black;background-color: white;}#sk-container-id-2 pre{padding: 0;}#sk-container-id-2 div.sk-toggleable {background-color: white;}#sk-container-id-2 label.sk-toggleable__label {cursor: pointer;display: block;width: 100%;margin-bottom: 0;padding: 0.3em;box-sizing: border-box;text-align: center;}#sk-container-id-2 label.sk-toggleable__label-arrow:before {content: \"▸\";float: left;margin-right: 0.25em;color: #696969;}#sk-container-id-2 label.sk-toggleable__label-arrow:hover:before {color: black;}#sk-container-id-2 div.sk-estimator:hover label.sk-toggleable__label-arrow:before {color: black;}#sk-container-id-2 div.sk-toggleable__content {max-height: 0;max-width: 0;overflow: hidden;text-align: left;background-color: #f0f8ff;}#sk-container-id-2 div.sk-toggleable__content pre {margin: 0.2em;color: black;border-radius: 0.25em;background-color: #f0f8ff;}#sk-container-id-2 input.sk-toggleable__control:checked~div.sk-toggleable__content {max-height: 200px;max-width: 100%;overflow: auto;}#sk-container-id-2 input.sk-toggleable__control:checked~label.sk-toggleable__label-arrow:before {content: \"▾\";}#sk-container-id-2 div.sk-estimator input.sk-toggleable__control:checked~label.sk-toggleable__label {background-color: #d4ebff;}#sk-container-id-2 div.sk-label input.sk-toggleable__control:checked~label.sk-toggleable__label {background-color: #d4ebff;}#sk-container-id-2 input.sk-hidden--visually {border: 0;clip: rect(1px 1px 1px 1px);clip: rect(1px, 1px, 1px, 1px);height: 1px;margin: -1px;overflow: hidden;padding: 0;position: absolute;width: 1px;}#sk-container-id-2 div.sk-estimator {font-family: monospace;background-color: #f0f8ff;border: 1px dotted black;border-radius: 0.25em;box-sizing: border-box;margin-bottom: 0.5em;}#sk-container-id-2 div.sk-estimator:hover {background-color: #d4ebff;}#sk-container-id-2 div.sk-parallel-item::after {content: \"\";width: 100%;border-bottom: 1px solid gray;flex-grow: 1;}#sk-container-id-2 div.sk-label:hover label.sk-toggleable__label {background-color: #d4ebff;}#sk-container-id-2 div.sk-serial::before {content: \"\";position: absolute;border-left: 1px solid gray;box-sizing: border-box;top: 0;bottom: 0;left: 50%;z-index: 0;}#sk-container-id-2 div.sk-serial {display: flex;flex-direction: column;align-items: center;background-color: white;padding-right: 0.2em;padding-left: 0.2em;position: relative;}#sk-container-id-2 div.sk-item {position: relative;z-index: 1;}#sk-container-id-2 div.sk-parallel {display: flex;align-items: stretch;justify-content: center;background-color: white;position: relative;}#sk-container-id-2 div.sk-item::before, #sk-container-id-2 div.sk-parallel-item::before {content: \"\";position: absolute;border-left: 1px solid gray;box-sizing: border-box;top: 0;bottom: 0;left: 50%;z-index: -1;}#sk-container-id-2 div.sk-parallel-item {display: flex;flex-direction: column;z-index: 1;position: relative;background-color: white;}#sk-container-id-2 div.sk-parallel-item:first-child::after {align-self: flex-end;width: 50%;}#sk-container-id-2 div.sk-parallel-item:last-child::after {align-self: flex-start;width: 50%;}#sk-container-id-2 div.sk-parallel-item:only-child::after {width: 0;}#sk-container-id-2 div.sk-dashed-wrapped {border: 1px dashed gray;margin: 0 0.4em 0.5em 0.4em;box-sizing: border-box;padding-bottom: 0.4em;background-color: white;}#sk-container-id-2 div.sk-label label {font-family: monospace;font-weight: bold;display: inline-block;line-height: 1.2em;}#sk-container-id-2 div.sk-label-container {text-align: center;}#sk-container-id-2 div.sk-container {/* jupyter's `normalize.less` sets `[hidden] { display: none; }` but bootstrap.min.css set `[hidden] { display: none !important; }` so we also need the `!important` here to be able to override the default hidden behavior on the sphinx rendered scikit-learn.org. See: https://github.com/scikit-learn/scikit-learn/issues/21755 */display: inline-block !important;position: relative;}#sk-container-id-2 div.sk-text-repr-fallback {display: none;}</style><div id=\"sk-container-id-2\" class=\"sk-top-container\"><div class=\"sk-text-repr-fallback\"><pre>SVC(kernel=&#x27;linear&#x27;)</pre><b>In a Jupyter environment, please rerun this cell to show the HTML representation or trust the notebook. <br />On GitHub, the HTML representation is unable to render, please try loading this page with nbviewer.org.</b></div><div class=\"sk-container\" hidden><div class=\"sk-item\"><div class=\"sk-estimator sk-toggleable\"><input class=\"sk-toggleable__control sk-hidden--visually\" id=\"sk-estimator-id-2\" type=\"checkbox\" checked><label for=\"sk-estimator-id-2\" class=\"sk-toggleable__label sk-toggleable__label-arrow\">SVC</label><div class=\"sk-toggleable__content\"><pre>SVC(kernel=&#x27;linear&#x27;)</pre></div></div></div></div></div>"
      ],
      "text/plain": [
       "SVC(kernel='linear')"
      ]
     },
     "execution_count": 22,
     "metadata": {},
     "output_type": "execute_result"
    }
   ],
   "source": [
    "clf_svm_wv = svm.SVC(kernel='linear')\n",
    "clf_svm_wv.fit(train_x_word_vectors, y_train)"
   ]
  },
  {
   "cell_type": "code",
   "execution_count": 23,
   "metadata": {},
   "outputs": [
    {
     "name": "stdout",
     "output_type": "stream",
     "text": [
      "[6121]\n"
     ]
    },
    {
     "data": {
      "text/plain": [
       "index\n",
       "169939030    5223\n",
       "169293782    5223\n",
       "291073919    7212\n",
       "179260831    5223\n",
       "39608878     6121\n",
       "             ... \n",
       "110663394    3341\n",
       "30812168     3341\n",
       "50002587     3341\n",
       "183546781    3341\n",
       "39324585     6121\n",
       "Name: target, Length: 15000, dtype: int64"
      ]
     },
     "execution_count": 23,
     "metadata": {},
     "output_type": "execute_result"
    }
   ],
   "source": [
    "print(clf_svm_wv.predict(train_x_word_vectors[4].reshape(1,-1)))\n",
    "y_train"
   ]
  },
  {
   "cell_type": "code",
   "execution_count": 24,
   "metadata": {},
   "outputs": [
    {
     "name": "stdout",
     "output_type": "stream",
     "text": [
      "train.shape=(6973, 3)\n"
     ]
    }
   ],
   "source": [
    "X_test_raw = pd.read_csv(\"./test.csv\")\n",
    "train = X_test_raw\n",
    "print(f\"{train.shape=}\")\n",
    "    \n",
    "\n",
    "responsibilities = pd.Series({\n",
    "    description[\"ID\"]: r[0]\n",
    "    if (r := description[\"Content\"].get(\"Обязанности\")) is not None\n",
    "    else None\n",
    "    for description in descriptions\n",
    "}, name=\"responsibilities\")\n",
    "\n",
    "\n",
    "train[\"responsibilities\"] = responsibilities\n",
    "\n",
    "train[\"full_description\"] = (\n",
    "    train[\"name\"] + \" \" + train[\"responsibilities\"].fillna(\"\")\n",
    ").map(str.lower)\n",
    "\n",
    "patt = re.compile(\"[^\\w\\s]\")\n",
    "train.loc[:, \"full_description\"] = train[\"full_description\"].str.replace(\n",
    "    patt, \" \", regex=True\n",
    ")\n",
    "\n",
    "X_train = train[\"full_description\"]\n",
    "\n",
    "\n",
    "docs = [nlp(text) for text in X_train]\n",
    "train_x_word_vectors = [x.vector for x in docs]\n",
    "\n"
   ]
  },
  {
   "cell_type": "code",
   "execution_count": 25,
   "metadata": {},
   "outputs": [
    {
     "data": {
      "text/html": [
       "<div>\n",
       "<style scoped>\n",
       "    .dataframe tbody tr th:only-of-type {\n",
       "        vertical-align: middle;\n",
       "    }\n",
       "\n",
       "    .dataframe tbody tr th {\n",
       "        vertical-align: top;\n",
       "    }\n",
       "\n",
       "    .dataframe thead th {\n",
       "        text-align: right;\n",
       "    }\n",
       "</style>\n",
       "<table border=\"1\" class=\"dataframe\">\n",
       "  <thead>\n",
       "    <tr style=\"text-align: right;\">\n",
       "      <th></th>\n",
       "      <th>index</th>\n",
       "      <th>target</th>\n",
       "    </tr>\n",
       "  </thead>\n",
       "  <tbody>\n",
       "    <tr>\n",
       "      <th>0</th>\n",
       "      <td>28357560</td>\n",
       "      <td>5223</td>\n",
       "    </tr>\n",
       "    <tr>\n",
       "      <th>1</th>\n",
       "      <td>114041896</td>\n",
       "      <td>2433</td>\n",
       "    </tr>\n",
       "    <tr>\n",
       "      <th>2</th>\n",
       "      <td>78645675</td>\n",
       "      <td>2433</td>\n",
       "    </tr>\n",
       "    <tr>\n",
       "      <th>3</th>\n",
       "      <td>34898406</td>\n",
       "      <td>9333</td>\n",
       "    </tr>\n",
       "  </tbody>\n",
       "</table>\n",
       "</div>"
      ],
      "text/plain": [
       "       index  target\n",
       "0   28357560    5223\n",
       "1  114041896    2433\n",
       "2   78645675    2433\n",
       "3   34898406    9333"
      ]
     },
     "metadata": {},
     "output_type": "display_data"
    },
    {
     "data": {
      "text/plain": [
       "(6973, 2)"
      ]
     },
     "execution_count": 25,
     "metadata": {},
     "output_type": "execute_result"
    }
   ],
   "source": [
    "y_pred = clf_svm_wv.predict(train_x_word_vectors)\n",
    "\n",
    "\n",
    "\n",
    "submission = X_test_raw[[\"index\"]].assign(target=y_pred)\n",
    "display(submission.head(4))\n",
    "submission.to_csv(\"demo_submission.csv\", index=False)\n",
    "submission.shape\n"
   ]
  },
  {
   "cell_type": "code",
   "execution_count": null,
   "metadata": {},
   "outputs": [],
   "source": [
    "\n",
    "tn, fp, fn, tp = confusion_matrix(y_test, predicted_y).ravel()\n",
    "precision_score = tp / (tp + fp)\n",
    "recall_score = tp / (tp + fn)"
   ]
  }
 ],
 "metadata": {
  "kernelspec": {
   "display_name": "Python 3.10.6 64-bit",
   "language": "python",
   "name": "python3"
  },
  "language_info": {
   "codemirror_mode": {
    "name": "ipython",
    "version": 3
   },
   "file_extension": ".py",
   "mimetype": "text/x-python",
   "name": "python",
   "nbconvert_exporter": "python",
   "pygments_lexer": "ipython3",
   "version": "3.10.6"
  },
  "orig_nbformat": 4,
  "vscode": {
   "interpreter": {
    "hash": "916dbcbb3f70747c44a77c7bcd40155683ae19c65e1c03b4aa3499c5328201f1"
   }
  }
 },
 "nbformat": 4,
 "nbformat_minor": 2
}
